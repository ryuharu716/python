{
 "cells": [
  {
   "attachments": {},
   "cell_type": "markdown",
   "metadata": {},
   "source": [
    "###### 객체 지향 프로그래밍(OOP) -> 코드의 재사용, 코드 중복 방지, 유지보수, 대형프로젝트 등\n",
    "###### 클래스 사용 장점 -> \"데이터 중심\", \"객체 형태로 관리 가능\"\n",
    "###### 규코가 큰 프로젝트(프로그램)에서 함수 중심를 기반으로 프로그램할때, 데이터의 양이 많아지면 관리하기 어려운 문제 발생"
   ]
  },
  {
   "cell_type": "code",
   "execution_count": 8,
   "metadata": {},
   "outputs": [],
   "source": [
    "## 일반적인 코딩 방식\n",
    "## 사원1\n",
    "employee_1 = 'Ryu'\n",
    "employee_detail_1 = [\n",
    "    {'Department':'research',\n",
    "     'phone number':'010-xxxx-xxxx',\n",
    "     'sex':'M'}    \n",
    "]\n",
    "employee_2 = 'Kang'\n",
    "employee_detail_2 = [\n",
    "    {'Department':'HR',\n",
    "     'phone number':'010-xxxx-xxxx',\n",
    "     'sex':'F'}    \n",
    "]\n",
    "employee_3 = 'Choi'\n",
    "employee_detail_3 = [\n",
    "    {'Department':'RA',\n",
    "     'phone number':'010-xxxx-xxxx',\n",
    "     'sex':'M'}    \n",
    "]"
   ]
  },
  {
   "cell_type": "code",
   "execution_count": 13,
   "metadata": {},
   "outputs": [],
   "source": [
    "# 리스트 구조\n",
    "# 관리하기 불편\n",
    "# 인덱스 접근 시 실수 가능성 증가, 삭제 불편\n",
    "employee_list = ['Ryu', 'Kang', 'Choi']\n",
    "employee_detail_list = [\n",
    "    {'Department':'research', 'phone number':'010-xxxx-xxxx', 'sex':'M'},  \n",
    "    {'Department':'HR', 'phone number':'010-xxxx-xxxx', 'sex':'F'},\n",
    "    {'Department':'RA', 'phone number':'010-xxxx-xxxx', 'sex':'M'}\n",
    "]\n"
   ]
  },
  {
   "cell_type": "code",
   "execution_count": 15,
   "metadata": {},
   "outputs": [],
   "source": [
    "# 직원 삭제\n",
    "del employee_detail_list[1]\n",
    "del employee_list[1]"
   ]
  },
  {
   "cell_type": "code",
   "execution_count": 21,
   "metadata": {},
   "outputs": [
    {
     "name": "stdout",
     "output_type": "stream",
     "text": [
      "['Ryu', 'Choi']\n",
      "[{'Department': 'research', 'phone number': '010-xxxx-xxxx', 'sex': 'M'}, {'Department': 'RA', 'phone number': '010-xxxx-xxxx', 'sex': 'M'}]\n"
     ]
    }
   ],
   "source": [
    "print(employee_list)\n",
    "print(employee_detail_list)"
   ]
  },
  {
   "cell_type": "code",
   "execution_count": 68,
   "metadata": {},
   "outputs": [],
   "source": [
    "# Class 구조\n",
    "# Class의 경우, 구조 설계 후 재사용성 증가\n",
    "class Employee():\n",
    "    def __init__(self, name, details):\n",
    "        self._name = name\n",
    "        self._details = details\n",
    "\n",
    "    def __str__(self):\n",
    "        return f'str : {self._name}, {self._details}'\n",
    "    \n",
    "    def __repr__(self):\n",
    "        return f'str: {self._name}, {self._details}'"
   ]
  },
  {
   "cell_type": "code",
   "execution_count": 69,
   "metadata": {},
   "outputs": [],
   "source": [
    "employee1 = Employee('ryu', {'Department':'research', 'phone number':'010-xxxx-xxxx', 'sex':'M'})\n",
    "employee2 = Employee('Kang', {'Department':'HR', 'phone number':'010-xxxx-xxxx', 'sex':'F'})\n",
    "employee3 = Employee('Choi', {'Department':'RA', 'phone number':'010-xxxx-xxxx', 'sex':'M'})"
   ]
  },
  {
   "cell_type": "code",
   "execution_count": 70,
   "metadata": {},
   "outputs": [
    {
     "data": {
      "text/plain": [
       "str: ryu, {'Department': 'research', 'phone number': '010-xxxx-xxxx', 'sex': 'M'}"
      ]
     },
     "execution_count": 70,
     "metadata": {},
     "output_type": "execute_result"
    }
   ],
   "source": [
    "employee1"
   ]
  },
  {
   "cell_type": "code",
   "execution_count": 71,
   "metadata": {},
   "outputs": [
    {
     "name": "stdout",
     "output_type": "stream",
     "text": [
      "{'_name': 'ryu', '_details': {'Department': 'research', 'phone number': '010-xxxx-xxxx', 'sex': 'M'}}\n",
      "{'_name': 'Kang', '_details': {'Department': 'HR', 'phone number': '010-xxxx-xxxx', 'sex': 'F'}}\n",
      "{'_name': 'Choi', '_details': {'Department': 'RA', 'phone number': '010-xxxx-xxxx', 'sex': 'M'}}\n"
     ]
    }
   ],
   "source": [
    "print(employee1.__dict__)\n",
    "print(employee2.__dict__)\n",
    "print(employee3.__dict__)"
   ]
  },
  {
   "cell_type": "code",
   "execution_count": 72,
   "metadata": {},
   "outputs": [
    {
     "name": "stdout",
     "output_type": "stream",
     "text": [
      "str : ryu, {'Department': 'research', 'phone number': '010-xxxx-xxxx', 'sex': 'M'}\n"
     ]
    }
   ],
   "source": [
    "print(employee1)"
   ]
  },
  {
   "cell_type": "code",
   "execution_count": 73,
   "metadata": {},
   "outputs": [],
   "source": [
    "# 리스트 선언\n",
    "employee_list = []\n",
    "\n",
    "employee_list.append(employee1)\n",
    "employee_list.append(employee2)\n",
    "employee_list.append(employee3)"
   ]
  },
  {
   "cell_type": "code",
   "execution_count": 74,
   "metadata": {},
   "outputs": [
    {
     "data": {
      "text/plain": [
       "[str: ryu, {'Department': 'research', 'phone number': '010-xxxx-xxxx', 'sex': 'M'},\n",
       " str: Kang, {'Department': 'HR', 'phone number': '010-xxxx-xxxx', 'sex': 'F'},\n",
       " str: Choi, {'Department': 'RA', 'phone number': '010-xxxx-xxxx', 'sex': 'M'}]"
      ]
     },
     "execution_count": 74,
     "metadata": {},
     "output_type": "execute_result"
    }
   ],
   "source": [
    "employee_list"
   ]
  },
  {
   "cell_type": "code",
   "execution_count": 75,
   "metadata": {},
   "outputs": [
    {
     "name": "stdout",
     "output_type": "stream",
     "text": [
      "str: ryu, {'Department': 'research', 'phone number': '010-xxxx-xxxx', 'sex': 'M'}\n",
      "str : ryu, {'Department': 'research', 'phone number': '010-xxxx-xxxx', 'sex': 'M'}\n",
      "str: Kang, {'Department': 'HR', 'phone number': '010-xxxx-xxxx', 'sex': 'F'}\n",
      "str : Kang, {'Department': 'HR', 'phone number': '010-xxxx-xxxx', 'sex': 'F'}\n",
      "str: Choi, {'Department': 'RA', 'phone number': '010-xxxx-xxxx', 'sex': 'M'}\n",
      "str : Choi, {'Department': 'RA', 'phone number': '010-xxxx-xxxx', 'sex': 'M'}\n"
     ]
    }
   ],
   "source": [
    "for x in employee_list:\n",
    "    print(repr(x))\n",
    "    print(x)"
   ]
  },
  {
   "cell_type": "code",
   "execution_count": null,
   "metadata": {},
   "outputs": [],
   "source": []
  }
 ],
 "metadata": {
  "kernelspec": {
   "display_name": "amcg_ryu",
   "language": "python",
   "name": "python3"
  },
  "language_info": {
   "codemirror_mode": {
    "name": "ipython",
    "version": 3
   },
   "file_extension": ".py",
   "mimetype": "text/x-python",
   "name": "python",
   "nbconvert_exporter": "python",
   "pygments_lexer": "ipython3",
   "version": "3.7.15"
  },
  "orig_nbformat": 4
 },
 "nbformat": 4,
 "nbformat_minor": 2
}
