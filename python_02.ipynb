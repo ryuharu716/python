{
 "cells": [
  {
   "cell_type": "code",
   "execution_count": 1,
   "metadata": {},
   "outputs": [],
   "source": [
    "class Employee():\n",
    "    \"\"\"\n",
    "    Employee Class\n",
    "    Author : Ryu\n",
    "    Date : 2023.03.30\n",
    "    \"\"\"\n",
    "    # Class 변수 \n",
    "    employee_cnt = 0\n",
    "    def __init__(self, name, details):\n",
    "        self._name = name\n",
    "        self._details = details\n",
    "\n",
    "        Employee.employee_cnt += 1\n",
    "\n",
    "    def __str__(self):\n",
    "        return f'str : {self._name}, {self._details}'\n",
    "    \n",
    "    def __repr__(self):\n",
    "        return f'str: {self._name}, {self._details}'\n",
    "\n",
    "    def detail_info(self):\n",
    "        print(f\"Current Id : {id(self)}\")\n",
    "        print(f'Employee detail info : {self._name}-{self._details}')\n",
    "\n",
    "    def __del__(self):\n",
    "        Employee.employee_cnt -= 1"
   ]
  },
  {
   "attachments": {},
   "cell_type": "markdown",
   "metadata": {},
   "source": [
    "<!-- Class 변수\n",
    "1. Class 내에서 정의된 변수\n",
    "2. 해당 클래스의 모든 인스턴스에서 서로 공유됨\n",
    "3. 클래스의 모든 인스턴스가 공통적으로 사용해야하는 데이터를 저장하는데 유용 -->"
   ]
  },
  {
   "cell_type": "code",
   "execution_count": 2,
   "metadata": {},
   "outputs": [],
   "source": [
    "employee1 = Employee('Ryu', {'Department':'research', 'phone number':'010-xxxx-xxxx', 'sex':'M'})\n",
    "employee2 = Employee('Kang', {'Department':'HR', 'phone number':'010-xxxx-xxxx', 'sex':'F'})\n",
    "employee3 = Employee('Choi', {'Department':'RA', 'phone number':'010-xxxx-xxxx', 'sex':'M'})"
   ]
  },
  {
   "cell_type": "code",
   "execution_count": 3,
   "metadata": {},
   "outputs": [
    {
     "name": "stdout",
     "output_type": "stream",
     "text": [
      "2602921929480\n",
      "2602921929928\n",
      "2602920703688\n"
     ]
    }
   ],
   "source": [
    "# ID 확인\n",
    "print(id(employee1))\n",
    "print(id(employee2))\n",
    "print(id(employee3))"
   ]
  },
  {
   "cell_type": "code",
   "execution_count": 4,
   "metadata": {},
   "outputs": [
    {
     "name": "stdout",
     "output_type": "stream",
     "text": [
      "False\n",
      "False\n"
     ]
    }
   ],
   "source": [
    "print(employee1._name == employee2._name)\n",
    "print(employee1 is employee2)"
   ]
  },
  {
   "attachments": {},
   "cell_type": "markdown",
   "metadata": {},
   "source": [
    "dir() 내장 함수: 어떤 객체를 인자로 넣어주면 해당 객체가 \"어떤 변수\"와 \"메소드(method)\"를 가지고 있는지 나열해줍니다."
   ]
  },
  {
   "cell_type": "code",
   "execution_count": 6,
   "metadata": {},
   "outputs": [
    {
     "name": "stdout",
     "output_type": "stream",
     "text": [
      "['__class__', '__del__', '__delattr__', '__dict__', '__dir__', '__doc__', '__eq__', '__format__', '__ge__', '__getattribute__', '__gt__', '__hash__', '__init__', '__init_subclass__', '__le__', '__lt__', '__module__', '__ne__', '__new__', '__reduce__', '__reduce_ex__', '__repr__', '__setattr__', '__sizeof__', '__str__', '__subclasshook__', '__weakref__', '_details', '_name', 'detail_info', 'employee_cnt']\n",
      "['__class__', '__del__', '__delattr__', '__dict__', '__dir__', '__doc__', '__eq__', '__format__', '__ge__', '__getattribute__', '__gt__', '__hash__', '__init__', '__init_subclass__', '__le__', '__lt__', '__module__', '__ne__', '__new__', '__reduce__', '__reduce_ex__', '__repr__', '__setattr__', '__sizeof__', '__str__', '__subclasshook__', '__weakref__', '_details', '_name', 'detail_info', 'employee_cnt']\n"
     ]
    }
   ],
   "source": [
    "print(dir(employee1))\n",
    "print(dir(employee2))"
   ]
  },
  {
   "cell_type": "markdown",
   "metadata": {},
   "source": [
    "__dict__ :  인스턴스 내부에 어떤 속성이 있는지 "
   ]
  },
  {
   "cell_type": "code",
   "execution_count": 9,
   "metadata": {},
   "outputs": [
    {
     "name": "stdout",
     "output_type": "stream",
     "text": [
      "{'_name': 'Ryu', '_details': {'Department': 'research', 'phone number': '010-xxxx-xxxx', 'sex': 'M'}}\n",
      "{'_name': 'Kang', '_details': {'Department': 'HR', 'phone number': '010-xxxx-xxxx', 'sex': 'F'}}\n"
     ]
    }
   ],
   "source": [
    "print(employee1.__dict__)\n",
    "print(employee2.__dict__)"
   ]
  },
  {
   "cell_type": "code",
   "execution_count": 8,
   "metadata": {},
   "outputs": [
    {
     "name": "stdout",
     "output_type": "stream",
     "text": [
      "\n",
      "    Employee Class\n",
      "    Author : Ryu\n",
      "    Date : 2023.03.30\n",
      "    \n"
     ]
    }
   ],
   "source": [
    "# Doctring\n",
    "print(employee1.__doc__)"
   ]
  },
  {
   "cell_type": "code",
   "execution_count": 10,
   "metadata": {},
   "outputs": [
    {
     "name": "stdout",
     "output_type": "stream",
     "text": [
      "Current Id : 2602921929480\n",
      "Employee detail info : Ryu-{'Department': 'research', 'phone number': '010-xxxx-xxxx', 'sex': 'M'}\n",
      "Current Id : 2602921929928\n",
      "Employee detail info : Kang-{'Department': 'HR', 'phone number': '010-xxxx-xxxx', 'sex': 'F'}\n"
     ]
    }
   ],
   "source": [
    "# 실행\n",
    "employee1.detail_info()\n",
    "employee2.detail_info()"
   ]
  },
  {
   "cell_type": "code",
   "execution_count": null,
   "metadata": {},
   "outputs": [],
   "source": [
    "#  네임스페이스라는 것은 변수가 객체를 바인딩할 때 그 둘 사이의 관계를 저장하고 있는 공간을 의미합니다. 예를 들어,'a = 2'라고 했을 때a라는 변수가2라는 객체가 저장된 주소를 가지고 있는데 그러한 연결 관계가 저장된 공간이 바로 네임스페이스입니다.\n",
    "\n",
    "# 파이썬의 클래스는 새로운 타입(객체)을 정의하기 위해 사용되며, 모듈과 마찬가지로 하나의 네임스페이스를 가집니다"
   ]
  },
  {
   "cell_type": "code",
   "execution_count": 11,
   "metadata": {},
   "outputs": [
    {
     "ename": "TypeError",
     "evalue": "detail_info() missing 1 required positional argument: 'self'",
     "output_type": "error",
     "traceback": [
      "\u001b[1;31m---------------------------------------------------------------------------\u001b[0m",
      "\u001b[1;31mTypeError\u001b[0m                                 Traceback (most recent call last)",
      "\u001b[1;32m~\\AppData\\Local\\Temp\\ipykernel_32260\\2704685522.py\u001b[0m in \u001b[0;36m<module>\u001b[1;34m\u001b[0m\n\u001b[0;32m      1\u001b[0m \u001b[1;31m# 에러\u001b[0m\u001b[1;33m\u001b[0m\u001b[1;33m\u001b[0m\u001b[1;33m\u001b[0m\u001b[0m\n\u001b[1;32m----> 2\u001b[1;33m \u001b[0mEmployee\u001b[0m\u001b[1;33m.\u001b[0m\u001b[0mdetail_info\u001b[0m\u001b[1;33m(\u001b[0m\u001b[1;33m)\u001b[0m \u001b[1;31m# 에러 발생 #self라는 인자가 필요함..\u001b[0m\u001b[1;33m\u001b[0m\u001b[1;33m\u001b[0m\u001b[0m\n\u001b[0m",
      "\u001b[1;31mTypeError\u001b[0m: detail_info() missing 1 required positional argument: 'self'"
     ]
    }
   ],
   "source": [
    "# 에러  self라는 인자가 필요함..\n",
    "Employee.detail_info() "
   ]
  },
  {
   "cell_type": "code",
   "execution_count": 13,
   "metadata": {},
   "outputs": [
    {
     "name": "stdout",
     "output_type": "stream",
     "text": [
      "Current Id : 2602921929480\n",
      "Employee detail info : Ryu-{'Department': 'research', 'phone number': '010-xxxx-xxxx', 'sex': 'M'}\n",
      "Current Id : 2602921929928\n",
      "Employee detail info : Kang-{'Department': 'HR', 'phone number': '010-xxxx-xxxx', 'sex': 'F'}\n"
     ]
    }
   ],
   "source": [
    "Employee.detail_info(employee1)\n",
    "Employee.detail_info(employee2)"
   ]
  },
  {
   "cell_type": "code",
   "execution_count": 14,
   "metadata": {},
   "outputs": [
    {
     "name": "stdout",
     "output_type": "stream",
     "text": [
      "<class '__main__.Employee'> <class '__main__.Employee'>\n",
      "True\n"
     ]
    }
   ],
   "source": [
    "# 비교\n",
    "print(employee1.__class__, employee2.__class__)\n",
    "print(id(employee1.__class__) == id(employee2.__class__))"
   ]
  },
  {
   "cell_type": "code",
   "execution_count": 15,
   "metadata": {},
   "outputs": [],
   "source": [
    "# 언더바가 없으면 인스턴스끼리 공유하는 클래스 변수라고 생각\n",
    "# 언더바가 있으면 인스턴스 변수라고 생각"
   ]
  },
  {
   "cell_type": "code",
   "execution_count": 17,
   "metadata": {},
   "outputs": [
    {
     "name": "stdout",
     "output_type": "stream",
     "text": [
      "Ryu Kang\n",
      "Kang Choi\n"
     ]
    }
   ],
   "source": [
    "print(employee1._name, employee2._name)\n",
    "print(employee2._name, employee3._name)\n"
   ]
  },
  {
   "cell_type": "code",
   "execution_count": 19,
   "metadata": {},
   "outputs": [
    {
     "name": "stdout",
     "output_type": "stream",
     "text": [
      "3\n",
      "3\n",
      "3\n"
     ]
    }
   ],
   "source": [
    "# 접근\n",
    "print(employee1.employee_cnt)\n",
    "print(employee2.employee_cnt)\n",
    "print(Employee.employee_cnt)"
   ]
  },
  {
   "cell_type": "code",
   "execution_count": 20,
   "metadata": {},
   "outputs": [
    {
     "name": "stdout",
     "output_type": "stream",
     "text": [
      "{'__module__': '__main__', '__doc__': '\\n    Employee Class\\n    Author : Ryu\\n    Date : 2023.03.30\\n    ', 'employee_cnt': 3, '__init__': <function Employee.__init__ at 0x0000025E0A0C88B8>, '__str__': <function Employee.__str__ at 0x0000025E0A0C8558>, '__repr__': <function Employee.__repr__ at 0x0000025E0A0C4F78>, 'detail_info': <function Employee.detail_info at 0x0000025E0A0C4C18>, '__del__': <function Employee.__del__ at 0x0000025E0A0C4828>, '__dict__': <attribute '__dict__' of 'Employee' objects>, '__weakref__': <attribute '__weakref__' of 'Employee' objects>}\n",
      "{'_name': 'Ryu', '_details': {'Department': 'research', 'phone number': '010-xxxx-xxxx', 'sex': 'M'}}\n",
      "{'_name': 'Kang', '_details': {'Department': 'HR', 'phone number': '010-xxxx-xxxx', 'sex': 'F'}}\n",
      "{'_name': 'Choi', '_details': {'Department': 'RA', 'phone number': '010-xxxx-xxxx', 'sex': 'M'}}\n"
     ]
    }
   ],
   "source": [
    "# 공유 확인\n",
    "print(Employee.__dict__)\n",
    "print(employee1.__dict__)\n",
    "print(employee2.__dict__)\n",
    "print(employee3.__dict__)"
   ]
  },
  {
   "cell_type": "code",
   "execution_count": null,
   "metadata": {},
   "outputs": [],
   "source": []
  },
  {
   "cell_type": "code",
   "execution_count": null,
   "metadata": {},
   "outputs": [],
   "source": []
  }
 ],
 "metadata": {
  "kernelspec": {
   "display_name": "amcg_ryu",
   "language": "python",
   "name": "python3"
  },
  "language_info": {
   "codemirror_mode": {
    "name": "ipython",
    "version": 3
   },
   "file_extension": ".py",
   "mimetype": "text/x-python",
   "name": "python",
   "nbconvert_exporter": "python",
   "pygments_lexer": "ipython3",
   "version": "3.7.15"
  },
  "orig_nbformat": 4
 },
 "nbformat": 4,
 "nbformat_minor": 2
}
